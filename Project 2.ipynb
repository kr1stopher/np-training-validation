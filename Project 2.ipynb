{
 "cells": [
  {
   "cell_type": "markdown",
   "metadata": {},
   "source": [
    "Author: Kris Swartzbaugh\n",
    "CWID: 890939184 \n",
    "Project 2: NP Training and Validation \n",
    "Project Description: \n",
    "    Use NumPy to implement vectorized linear and polynomial regression models and compare their performance using seperate training and test sets \n",
    "        1. Use the NumPy ​ load()​ method to read the dataset. The data contains two arrays:\n",
    "'features'​ , which contains the variables CRIM through LSTAT, and ​ 'target'​ , which\n",
    "contains the variable MEDV.\n",
    "2. Set aside the first 102 items (20% of the total) as a validation set, and the remaining 404\n",
    "items for training.\n",
    "3. Create a scatterplot of the training data showing the relationship between the number of\n",
    "rooms and the median value of a home. Does the relationship appear to be linear?\n",
    "4. With RM as ​ X ​ and MEDV as ​ t ​ , use ​ np.linalg.inv()​ to compute ​ w ​ for the training set.\n",
    "What is the equation for MEDV as a linear function of RM?\n",
    "5. Use ​ w ​ to add a line representing the least squares fit to your scatter plot from\n",
    "experiment ​ (3) . ​ How well does the model appear to fit the training set?\n",
    "6. Use ​ w ​ to find the predicted response for each value of the RM attribute in the training\n",
    "set, then compute the average loss L for the model.\n",
    "7. Repeat experiment ​ (6) ​ for the validation set. How do the training and validation MSE\n",
    "values compare? What accounts for the difference?\n",
    "8. Repeat experiments ​ (4) ​ , ​ (6) , ​ and ​ (7) ​ using all 13 input features as ​ X . ​ How do the training\n",
    "and validation MSEs for this model compare to the values you found for experiment ​ (7) ​ .\n",
    "What accounts for the difference?\n",
    "9. Based on the value for ​ w ​ for the new model, how much does a one unit increase in each\n",
    "feature change the median value of the home? Based on the description of the dataset\n",
    "provided by StatLib, convert your answer to dollars.\n",
    "10. Based on the amount of change in the value of a home, which features are most\n",
    "important?\n",
    "\n",
    "\n",
    "        \n",
    "\n",
    "Cells Provided:\n",
    "    Markdown cell 1: This cell, author info and project description\n",
    "    Code Cell 1: library imports \n",
    "    Markdown cell 2: description of the data being analyzed \n",
    "    Code Cell 2: Loading and handling of data \n",
    "    Code Cell 3: Questions 2 and 3 \n",
    "    Code Cell 4: Question 4\n",
    "    Code Cell 5: Question 5 and 6 \n",
    "    Code Cell 6: Question 7\n",
    "    Code Cell 8: Question 8\n",
    "    Code Cell 9: Question 8 repeated attempt \n",
    "   \n",
    "\n",
    "Shortcommings:\n",
    "1)Question 8 output for w is 26 values instead of the expected 13, making it impossible to continue on to questions 9 and 10. Repeated attempt is currently having difficulty with matrix dimensions. "
   ]
  },
  {
   "cell_type": "code",
   "execution_count": 69,
   "metadata": {},
   "outputs": [],
   "source": [
    "import numpy as np \n",
    "import matplotlib.pyplot as plt"
   ]
  },
  {
   "cell_type": "markdown",
   "metadata": {},
   "source": [
    " Variables in order (features):\n",
    "[0] CRIM     per capita crime rate by town\n",
    "[1] ZN       proportion of residential land zoned for lots over 25,000 sq.ft.\n",
    "[2] INDUS    proportion of non-retail business acres per town\n",
    "[3] CHAS     Charles River dummy variable (= 1 if tract bounds river; 0 otherwise)\n",
    "[4] NOX      nitric oxides concentration (parts per 10 million)\n",
    "[5] RM       average number of rooms per dwelling\n",
    "[6] AGE      proportion of owner-occupied units built prior to 1940\n",
    "[7] DIS      weighted distances to five Boston employment centres\n",
    "[8] RAD      index of accessibility to radial highways\n",
    "[9] TAX      full-value property-tax rate per $10,000\n",
    "[10] PTRATIO  pupil-teacher ratio by town\n",
    "[11] B        1000(Bk - 0.63)^2 where Bk is the proportion of blacks by town\n",
    "[13] LSTAT    % lower status of the population\n",
    "[14] MEDV     Median value of owner-occupied homes in $1000's"
   ]
  },
  {
   "cell_type": "code",
   "execution_count": 70,
   "metadata": {
    "scrolled": false
   },
   "outputs": [
    {
     "data": {
      "image/png": "[encoded data removed]",
      "text/plain": [
       "<Figure size 432x288 with 1 Axes>"
      ]
     },
     "metadata": {
      "needs_background": "light"
     },
     "output_type": "display_data"
    }
   ],
   "source": [
    "features = np.load('/home/kris/projects/483 Jupyter Notebook /features.npy')\n",
    "target = np.load('/home/kris/projects/483 Jupyter Notebook /target.npy')\n",
    "\n",
    "\n",
    "#set aside 102 items (20%) for validation \n",
    "featuresValidate = features[:102][:]\n",
    "targetValidate = target[:102][:]\n",
    "features = features[102:][:]\n",
    "target = target[102:]\n",
    "\n",
    "\n",
    "#Next: Create a scatterplot of the training data showing the relationship between the number of \n",
    "            #rooms and the median value of a home. Does the relationship appear to be linear?\n",
    "    \n",
    "\n",
    "#Scatterplot of the training data showing the relationship between the number of rooms and median value of a home   \n",
    "plt.scatter(features[:,5], target)\n",
    "plt.show()\n",
    "# This data does appear to be linear\n",
    "\n",
    "\n",
    "\n",
    "\n"
   ]
  },
  {
   "cell_type": "code",
   "execution_count": 71,
   "metadata": {},
   "outputs": [
    {
     "name": "stdout",
     "output_type": "stream",
     "text": [
      "[[-34.20845325]\n",
      " [  9.05112595]]\n"
     ]
    }
   ],
   "source": [
    "# (4) With RM as X and MEDV as t, use np.linalg.inv() to compute w for the training set. What is the equation for MEDV as a linear function of RM?\n",
    "#initialize empty and ones np.arrays \n",
    "Y = np.ones((402,1))\n",
    "Z = np.empty((402,1))\n",
    "t = np.empty((402,1))\n",
    "#fill with target and featured data\n",
    "for i in range(402):\n",
    "    Z[i] = features[:,5][i]\n",
    "    t[i] = target[i]\n",
    "#combine for a proper X array\n",
    "X = np.concatenate((Y,Z),axis = 1)\n",
    "#compute X inverse and X.T\n",
    "XX = np.dot(X.T,X)\n",
    "invXX = np.linalg.inv(XX)\n",
    "Xt = np.dot(X.T,t)\n",
    "#compute W \n",
    "w = np.dot(invXX,Xt)\n",
    "print(w)\n",
    "\n",
    "# the equation is MEDV = -34.20845325 + 9.05112595*RM"
   ]
  },
  {
   "cell_type": "code",
   "execution_count": 72,
   "metadata": {},
   "outputs": [
    {
     "name": "stdout",
     "output_type": "stream",
     "text": [
      "Average Squared Loss:  3.856284996927644\n"
     ]
    },
    {
     "data": {
      "image/png": "[encoded data removed]",
      "text/plain": [
       "<Figure size 432x288 with 1 Axes>"
      ]
     },
     "metadata": {
      "needs_background": "light"
     },
     "output_type": "display_data"
    }
   ],
   "source": [
    "# (5) Use w to add a line representing the least squares fit to your scatter plot from experiment (3). How well does the model appear to fit the training set?\n",
    "\n",
    "testx = np.linspace(4,9,70)[:,None]\n",
    "testX = np.hstack((np.ones_like(testx),testx))\n",
    "# print(testX)\n",
    "testt = np.dot(testX,w)\n",
    "\n",
    "#plot the scatter plot and the linear model \n",
    "plt.plot(Z,t,'ro')\n",
    "plt.plot(testx,testt,'b')\n",
    "#The line appears to be a good fit of the data, but there is a lot of variance among the data \n",
    "\n",
    "\n",
    "# (6) Use w to find the predicted response for each value of the RM attribute in the training set, then compute the average loss 𝓛 for the model.\n",
    "\n",
    "#create prediction values for the data set using the w calculated\n",
    "tpredict = np.empty((402,1))\n",
    "for i in range(len(tpredict)):\n",
    "    tpredict[i] = w[0]+w[1]*Z[i]\n",
    "\n",
    "#compute the lease squared loss \n",
    "squaredLoss = np.empty((402,1))\n",
    "\n",
    "#Computer the average squared loss of the training  set compared to predicted outcome \n",
    "for i in range(len(squaredLoss)):\n",
    "    a = (float(t[0]-tpredict[0]))\n",
    "    a = a*a\n",
    "    squaredLoss[i]=a\n",
    "lossAvg = np.average(squaredLoss)\n",
    "print(\"Average Squared Loss: \", lossAvg)\n",
    "\n",
    "\n"
   ]
  },
  {
   "cell_type": "code",
   "execution_count": 73,
   "metadata": {},
   "outputs": [
    {
     "name": "stdout",
     "output_type": "stream",
     "text": [
      "Average Squared Loss:  22.9964374725777\n"
     ]
    }
   ],
   "source": [
    "# (7) Repeat experiment (6) for the test set. How do the training and test MSE values compare? What accounts for the difference?\n",
    "#featuresValidate\n",
    "#targetValidate\n",
    "ZZ = np.ones((102,1))\n",
    "tt = np.empty((102,1))\n",
    "for i in range(102):\n",
    "    ZZ[i] = featuresValidate[:,5][i]\n",
    "    tt[i] = targetValidate[i]\n",
    "for i in range(102):\n",
    "    tt[i] = targetValidate[i]\n",
    "    \n",
    "#create prediction values for the data set using the w calculated\n",
    "tpredictTT = np.empty((102,1))\n",
    "for i in range(len(tpredictTT)):\n",
    "    tpredictTT[i] = w[0]+w[1]*ZZ[i]\n",
    "\n",
    "#initialize least squared loss \n",
    "squaredLoss1 = np.empty((102,1))\n",
    "\n",
    "#Compute squared loss for each validation data point\n",
    "for i in range(len(squaredLoss1)):\n",
    "    aa = (float(tt[0]-tpredictTT[0]))\n",
    "    aa = aa*aa\n",
    "    squaredLoss[i]=aa\n",
    "#compute average squared lost\n",
    "lossAvg = np.average(squaredLoss1)\n",
    "print(\"Average Squared Loss: \", lossAvg)\n",
    "#average squared loss is 22.99, much higher than on the training data set. \n"
   ]
  },
  {
   "cell_type": "code",
   "execution_count": 74,
   "metadata": {},
   "outputs": [
    {
     "name": "stdout",
     "output_type": "stream",
     "text": [
      "31.964240937708382\n",
      "-0.11455286082089144\n",
      "0.044893213009297384\n",
      "0.028375569758667396\n",
      "2.709097418694938\n",
      "-16.740367150860948\n",
      "4.111482091304794\n",
      "-0.0008479050808641864\n",
      "-1.3849390491423605\n",
      "0.32108456938247354\n",
      "-0.012249711458006018\n",
      "-0.9125235000500993\n",
      "0.010253363767853907\n",
      "-0.4784146313778983\n",
      "21.807199582316603\n",
      "22.863680896368106\n"
     ]
    }
   ],
   "source": [
    "#(8) use np.linalg.inv() to compute w for the training set using all of the input values \n",
    "# Use w to find the predicted response for each value of the RM attribute in the training set, then compute the average loss 𝓛 for the model.\n",
    "# Use W to find the predicted response for each value in the training set, and compute the average squared loss \n",
    "\n",
    "x_all = features\n",
    "i = np.ones((404,1))\n",
    "X_all = np.hstack((i,x_all))\n",
    "XX_all = np.dot(X_all.T,X_all)\n",
    "inv_XX_all = np.linalg.inv(XX_all)\n",
    "Xt_all = np.dot(X_all.T, target)\n",
    "w = np.dot(inv_XX_all,Xt_all)\n",
    "for data in w:\n",
    "    print(data)\n",
    "\n",
    "# The equation with the calculated w is as follows:\n",
    "#     SL[item] = w[0]+w[1]*features[item][0] + w[2]*features[item][1] + w[3]*features[item][2] + w[4]*features[item][3] + w[5]*features[item][4] + w[6]*features[item][5] + w[7]*features[item][6] + w[8]*features[item][7] + w[9]*features[item][8] + w[10]*features[item][9] + w[11]*features[item][10] + w[12]*features[item][11] + w[13]*features[item][12]\n",
    "\n",
    "#compute the average squared loss of \n",
    "SL = np.empty((404,1)) # SL = squared loss\n",
    "for item in range(len(SL)):\n",
    "    SL[item] = w[0]+w[1]*features[item][0] + w[2]*features[item][1] + w[3]*features[item][2] + w[4]*features[item][3] + w[5]*features[item][4] + w[6]*features[item][5] + w[7]*features[item][6] + w[8]*features[item][7] + w[9]*features[item][8] + w[10]*features[item][9] + w[11]*features[item][10] + w[12]*features[item][11] + w[13]*features[item][12]\n",
    "    SL[item]= ((SL[item]-target[item]))**2\n",
    "avgLoss = np.average(SL) #avg Loss = 21.8\n",
    "print(avgLoss)\n",
    "\n",
    "\n",
    "#compute the average squared loss of the training set \n",
    "SLtraining = np.empty((102,1))\n",
    "for item in range(len(SLtraining)):\n",
    "    SLtraining[item] = w[0]+w[1]*featuresValidate[item][0] + w[2]*featuresValidate[item][1] + w[3]*featuresValidate[item][2] + w[4]*featuresValidate[item][3] + w[5]*featuresValidate[item][4] + w[6]*featuresValidate[item][5] + w[7]*featuresValidate[item][6] + w[8]*featuresValidate[item][7] + w[9]*featuresValidate[item][8] + w[10]*featuresValidate[item][9] + w[11]*featuresValidate[item][10] + w[12]*featuresValidate[item][11] + w[13]*featuresValidate[item][12]\n",
    "    SLtraining[item]= ((SLtraining[item]-targetValidate[item]))**2\n",
    "avgLossTraining = np.average(SLtraining) #avg Loss = 22.86368 (very close to the training data)\n",
    "print(avgLossTraining)\n"
   ]
  },
  {
   "cell_type": "code",
   "execution_count": 75,
   "metadata": {},
   "outputs": [
    {
     "name": "stdout",
     "output_type": "stream",
     "text": [
      "-114.55286082089144 Crim\n",
      "44.893213009297384 ZN\n",
      "28.375569758667396 INDUS\n",
      "2709.097418694938 CHAS\n",
      "-16740.367150860948 NOX\n",
      "4111.482091304793 RM\n",
      "-0.8479050808641864 AGE\n",
      "-1384.9390491423605 DIS\n",
      "321.08456938247355 RAD\n",
      "-12.249711458006018 TAX\n",
      "-912.5235000500993 PTRATIO\n",
      "10.253363767853907 B\n",
      "-478.41463137789833 LSTAT\n",
      "Object `important` not found.\n"
     ]
    },
    {
     "data": {
      "text/plain": [
       "\"\\n Variables in order (features):\\n[0] CRIM     per capita crime rate by town\\n[1] ZN       proportion of residential land zoned for lots over 25,000 sq.ft.\\n[2] INDUS    proportion of non-retail business acres per town\\n[3] CHAS     Charles River dummy variable (= 1 if tract bounds river; 0 otherwise)\\n[4] NOX      nitric oxides concentration (parts per 10 million)\\n[5] RM       average number of rooms per dwelling\\n[6] AGE      proportion of owner-occupied units built prior to 1940\\n[7] DIS      weighted distances to five Boston employment centres\\n[8] RAD      index of accessibility to radial highways\\n[9] TAX      full-value property-tax rate per $10,000\\n[10] PTRATIO  pupil-teacher ratio by town\\n[11] B        1000(Bk - 0.63)^2 where Bk is the proportion of blacks by town\\n[13] LSTAT    % lower status of the population\\n[14] MEDV     Median value of owner-occupied homes in $1000's\\n\""
      ]
     },
     "execution_count": 75,
     "metadata": {},
     "output_type": "execute_result"
    }
   ],
   "source": [
    "# (9) Based on the value for ​ w ​ for the new model, how much does a one unit increase in each feature change the median value of the home? Based on the description of the dataset provided by StatLib, convert your answer to dollars.\n",
    "\n",
    "#the price unit of the data is 1000's of dollars, so multiply w by 10000\n",
    "\n",
    "wincrease = w*1000\n",
    "print(wincrease[1], \"Crim\")\n",
    "print(wincrease[2], \"ZN\")\n",
    "print(wincrease[3], \"INDUS\")\n",
    "print(wincrease[4], \"CHAS\")\n",
    "print(wincrease[5], \"NOX\")\n",
    "print(wincrease[6], \"RM\")\n",
    "print(wincrease[7], \"AGE\")\n",
    "print(wincrease[8], \"DIS\")\n",
    "print(wincrease[9], \"RAD\")\n",
    "print(wincrease[10], \"TAX\")\n",
    "print(wincrease[11], \"PTRATIO\")\n",
    "print(wincrease[12], \"B\")\n",
    "print(wincrease[13], \"LSTAT\")\n",
    "\n",
    "\n",
    "# 10 Based on the amount of change in the value of a home, which features are most important?\n",
    "\n",
    "#The variables that have the highest effect on value of a home are as follows:\n",
    "# 1) RM \n",
    "\n",
    "\"\"\"\n",
    " Variables in order (features):\n",
    "[0] CRIM     per capita crime rate by town\n",
    "[1] ZN       proportion of residential land zoned for lots over 25,000 sq.ft.\n",
    "[2] INDUS    proportion of non-retail business acres per town\n",
    "[3] CHAS     Charles River dummy variable (= 1 if tract bounds river; 0 otherwise)\n",
    "[4] NOX      nitric oxides concentration (parts per 10 million)\n",
    "[5] RM       average number of rooms per dwelling\n",
    "[6] AGE      proportion of owner-occupied units built prior to 1940\n",
    "[7] DIS      weighted distances to five Boston employment centres\n",
    "[8] RAD      index of accessibility to radial highways\n",
    "[9] TAX      full-value property-tax rate per $10,000\n",
    "[10] PTRATIO  pupil-teacher ratio by town\n",
    "[11] B        1000(Bk - 0.63)^2 where Bk is the proportion of blacks by town\n",
    "[13] LSTAT    % lower status of the population\n",
    "[14] MEDV     Median value of owner-occupied homes in $1000's\n",
    "\"\"\""
   ]
  },
  {
   "cell_type": "markdown",
   "metadata": {},
   "source": [
    "10 Based on the amount of change in the value of a home, which features are most important?\n",
    "\n",
    "The variables that have the highest effect on value of a home are as follows:\n",
    "1) NOX with $16740 house price decrease per unit NOX increase (parts per ten million) \n",
    "2) RM with $4111 house price increase per unit RM increase (1 unit 1 room) \n",
    "2) CHAS with $2709 house price increase per unit CHAS increase (1 if it bounds river, 0 otherwise) \n",
    "3) DIS with a $1384 house price increase per unit DIS increase (weighted distance to 5 boston employment centers)"
   ]
  }
 ],
 "metadata": {
  "kernelspec": {
   "display_name": "Python 3",
   "language": "python",
   "name": "python3"
  },
  "language_info": {
   "codemirror_mode": {
    "name": "ipython",
    "version": 3
   },
   "file_extension": ".py",
   "mimetype": "text/x-python",
   "name": "python",
   "nbconvert_exporter": "python",
   "pygments_lexer": "ipython3",
   "version": "3.7.6"
  }
 },
 "nbformat": 4,
 "nbformat_minor": 4
}
